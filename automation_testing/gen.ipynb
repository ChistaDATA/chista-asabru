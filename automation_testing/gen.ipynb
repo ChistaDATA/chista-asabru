{
 "cells": [
  {
   "cell_type": "code",
   "execution_count": 4,
   "id": "1a64bf0a-f99e-409d-a3ab-1330603cfec6",
   "metadata": {},
   "outputs": [],
   "source": [
    "from clickhouse_driver import Client\n",
    "import time\n",
    "import random\n",
    "import string"
   ]
  },
  {
   "cell_type": "code",
   "execution_count": 25,
   "id": "66ec356d-bc1c-4c2a-bb9d-0537e294acc3",
   "metadata": {},
   "outputs": [],
   "source": [
    "# Configs\n",
    "write_to_file = True\n",
    "execute_query = True\n",
    "nrows = 10"
   ]
  },
  {
   "cell_type": "code",
   "execution_count": null,
   "id": "b3a8e416-edf9-4990-b416-e17376b89056",
   "metadata": {},
   "outputs": [],
   "source": [
    "# Client - provide necessary info\n",
    "client = Client('localhost', password='123456', port='', secure=False)"
   ]
  },
  {
   "cell_type": "code",
   "execution_count": 23,
   "id": "b92b9da2-d467-4414-8152-ffd0378880d1",
   "metadata": {},
   "outputs": [
    {
     "data": {
      "text/plain": [
       "[]"
      ]
     },
     "execution_count": 23,
     "metadata": {},
     "output_type": "execute_result"
    }
   ],
   "source": [
    "# Create the table in which the data will be inserted\n",
    "\n",
    "client.execute('CREATE TABLE IF NOT EXISTS insert_test \\\n",
    "(ID Int64,\\\n",
    "Name String,\\\n",
    "Age UInt8, \\\n",
    "City String) \\\n",
    "Engine=MergeTree \\\n",
    "ORDER BY (ID, Name)')"
   ]
  },
  {
   "cell_type": "code",
   "execution_count": 7,
   "id": "6315d428-7e8b-4143-a59d-ac2f60d1d93e",
   "metadata": {},
   "outputs": [],
   "source": [
    "# Function to generate random string\n",
    "def randomword(length):\n",
    "   letters = string.ascii_lowercase\n",
    "   return ''.join(random.choice(letters) for i in range(length))"
   ]
  },
  {
   "cell_type": "code",
   "execution_count": 12,
   "id": "0efb6774-a6da-4dc8-a414-b4d7fba89943",
   "metadata": {},
   "outputs": [],
   "source": [
    "# Function to generate random integer\n",
    "\n",
    "def gen_int(len):\n",
    "    return random.randint(1,len)"
   ]
  },
  {
   "cell_type": "code",
   "execution_count": 16,
   "id": "6f8b0cbd-189f-4729-8f93-9e1efeb5cdbd",
   "metadata": {},
   "outputs": [],
   "source": [
    "# generate the insert query\n",
    "\n",
    "query = \"\"\"\n",
    "INSERT INTO insert_test (ID, Name, Age, City) VALUES \"\"\"\n",
    "\n",
    "for nrow in range(nrows):\n",
    "\n",
    "    query+= str((gen_int(1000000),randomword(gen_int(10)),  gen_int(256), randomword(gen_int(20))))+', '\n",
    "\n",
    "print(len(query))"
   ]
  },
  {
   "cell_type": "code",
   "execution_count": 27,
   "id": "6047e640-4811-4957-8d31-e6313da18a18",
   "metadata": {},
   "outputs": [
    {
     "name": "stdout",
     "output_type": "stream",
     "text": [
      "Query saved to the specified file\n",
      "Query executed successfully\n"
     ]
    }
   ],
   "source": [
    "if write_to_file:\n",
    "    with open(\"Output.txt\", \"w\") as text_file:\n",
    "        text_file.write(query)\n",
    "        print('Query saved to the specified file')\n",
    "if execute_query:\n",
    "    client.execute(query)\n",
    "    print('Query executed successfully')\n",
    "\n",
    "client.disconnect()"
   ]
  },
  {
   "cell_type": "code",
   "execution_count": null,
   "id": "b41c8e79-57ef-4ff9-a25f-c21b34b15b46",
   "metadata": {},
   "outputs": [],
   "source": []
  }
 ],
 "metadata": {
  "kernelspec": {
   "display_name": "Python 3 (ipykernel)",
   "language": "python",
   "name": "python3"
  },
  "language_info": {
   "codemirror_mode": {
    "name": "ipython",
    "version": 3
   },
   "file_extension": ".py",
   "mimetype": "text/x-python",
   "name": "python",
   "nbconvert_exporter": "python",
   "pygments_lexer": "ipython3",
   "version": "3.11.2"
  }
 },
 "nbformat": 4,
 "nbformat_minor": 5
}
