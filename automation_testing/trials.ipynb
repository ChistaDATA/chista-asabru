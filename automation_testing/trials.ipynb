{
 "cells": [
  {
   "cell_type": "code",
   "execution_count": 1,
   "id": "f7bb13e8",
   "metadata": {},
   "outputs": [],
   "source": [
    "import pandas as pd\n",
    "from clickhouse_driver import Client\n",
    "import numpy as np\n",
    "import os\n",
    "import yaml"
   ]
  },
  {
   "cell_type": "code",
   "execution_count": 2,
   "id": "bfb6d2e5",
   "metadata": {},
   "outputs": [],
   "source": [
    "client = Client(host='localhost', user='default', password='123456')\n"
   ]
  },
  {
   "cell_type": "code",
   "execution_count": 7,
   "id": "3756ec4a",
   "metadata": {},
   "outputs": [
    {
     "data": {
      "text/plain": [
       "['INFORMATION_SCHEMA',\n",
       " 'asabru_testing',\n",
       " 'default',\n",
       " 'flashback',\n",
       " 'flashback_RESTORE',\n",
       " 'information_schema',\n",
       " 'system']"
      ]
     },
     "execution_count": 7,
     "metadata": {},
     "output_type": "execute_result"
    }
   ],
   "source": [
    "databases = client.execute('SHOW DATABASES')\n",
    "databases = [ database[0] for database in databases]\n",
    "databases"
   ]
  },
  {
   "cell_type": "code",
   "execution_count": 6,
   "id": "066d0485",
   "metadata": {},
   "outputs": [
    {
     "data": {
      "text/plain": [
       "[]"
      ]
     },
     "execution_count": 6,
     "metadata": {},
     "output_type": "execute_result"
    }
   ],
   "source": [
    "database = 'asabru_testing'\n",
    "client.execute(f'CREATE DATABASE {database}')"
   ]
  },
  {
   "cell_type": "code",
   "execution_count": 8,
   "id": "e26bc0a0",
   "metadata": {},
   "outputs": [],
   "source": [
    "import requests"
   ]
  },
  {
   "cell_type": "code",
   "execution_count": 11,
   "id": "a2a17210",
   "metadata": {},
   "outputs": [],
   "source": [
    "dataset_url  = 'https://datasets.clickhouse.com/cell_towers.csv.xz'\n",
    "\n",
    "with requests.get(dataset_url, stream=True) as r:\n",
    "    with open('cell_towers.csv.xz' , 'wb') as f:\n",
    "        f.write(r.content)"
   ]
  },
  {
   "cell_type": "code",
   "execution_count": 15,
   "id": "81f9f3ee",
   "metadata": {},
   "outputs": [],
   "source": [
    "import lzma"
   ]
  },
  {
   "cell_type": "code",
   "execution_count": 16,
   "id": "64b85faa",
   "metadata": {},
   "outputs": [],
   "source": [
    "with lzma.open(\"cell_towers.csv.xz\") as f, open('cell_towers.csv', 'wb') as fout:\n",
    "    file_content = f.read()\n",
    "    fout.write(file_content)"
   ]
  },
  {
   "cell_type": "code",
   "execution_count": null,
   "id": "51a6eba4",
   "metadata": {},
   "outputs": [],
   "source": []
  }
 ],
 "metadata": {
  "kernelspec": {
   "display_name": "Python 3 (ipykernel)",
   "language": "python",
   "name": "python3"
  },
  "language_info": {
   "codemirror_mode": {
    "name": "ipython",
    "version": 3
   },
   "file_extension": ".py",
   "mimetype": "text/x-python",
   "name": "python",
   "nbconvert_exporter": "python",
   "pygments_lexer": "ipython3",
   "version": "3.10.6"
  }
 },
 "nbformat": 4,
 "nbformat_minor": 5
}
